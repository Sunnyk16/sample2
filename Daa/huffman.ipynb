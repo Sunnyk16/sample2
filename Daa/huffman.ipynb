{
 "cells": [
  {
   "cell_type": "code",
   "execution_count": 4,
   "id": "01a594d5-47eb-43c6-9256-8eddea9f18e1",
   "metadata": {},
   "outputs": [
    {
     "name": "stdout",
     "output_type": "stream",
     "text": [
      "f -> 0\n",
      "c -> 100\n",
      "d -> 101\n",
      "a -> 1100\n",
      "b -> 1101\n",
      "e -> 111\n"
     ]
    }
   ],
   "source": [
    "import heapq\n",
    "\n",
    "class node:\n",
    "    def __init__(self, freq, symbol, left=None, right=None):\n",
    "        self.freq = freq\n",
    "        self.symbol = symbol\n",
    "        self.left = left\n",
    "        self.right = right\n",
    "        self.huff = \"\"\n",
    "    \n",
    "    def __lt__(self, other):\n",
    "        return self.freq < other.freq\n",
    "    \n",
    "def printNodes(node, val=\"\"):\n",
    "    newval = val + node.huff\n",
    "    if node.left:\n",
    "        printNodes(node.left, newval)\n",
    "    if node.right:\n",
    "        printNodes(node.right, newval)\n",
    "    else:\n",
    "        print(f\"{node.symbol} -> {newval}\")\n",
    "\n",
    "chars = [\"a\", \"b\", \"c\", \"d\", \"e\", \"f\"]\n",
    "freqs = [5, 9, 12, 13, 16, 45]\n",
    "nodes = []\n",
    "\n",
    "for i in range(len(chars)):\n",
    "    heapq.heappush(nodes, node(freqs[i], chars[i]))\n",
    "\n",
    "while len(nodes) > 1:\n",
    "    left = heapq.heappop(nodes)\n",
    "    right = heapq.heappop(nodes)\n",
    "    left.huff = \"0\"\n",
    "    right.huff = \"1\"\n",
    "    newnode = node(left.freq + right.freq, left.symbol + right.symbol, left, right)\n",
    "    heapq.heappush(nodes, newnode)\n",
    "\n",
    "printNodes(nodes[0])"
   ]
  },
  {
   "cell_type": "code",
   "execution_count": null,
   "id": "d3fdc22a-f324-4185-8554-5e0e27c33dca",
   "metadata": {},
   "outputs": [],
   "source": []
  }
 ],
 "metadata": {
  "kernelspec": {
   "display_name": "Python 3 (ipykernel)",
   "language": "python",
   "name": "python3"
  },
  "language_info": {
   "codemirror_mode": {
    "name": "ipython",
    "version": 3
   },
   "file_extension": ".py",
   "mimetype": "text/x-python",
   "name": "python",
   "nbconvert_exporter": "python",
   "pygments_lexer": "ipython3",
   "version": "3.12.6"
  }
 },
 "nbformat": 4,
 "nbformat_minor": 5
}

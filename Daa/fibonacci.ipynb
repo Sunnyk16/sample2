{
 "cells": [
  {
   "cell_type": "code",
   "execution_count": 1,
   "id": "2f387360-230d-4238-ab8c-881ebe2a5259",
   "metadata": {},
   "outputs": [
    {
     "name": "stdin",
     "output_type": "stream",
     "text": [
      "Enter a number:  2\n"
     ]
    },
    {
     "name": "stdout",
     "output_type": "stream",
     "text": [
      "Iterative: 1\n",
      "Steps: 2\n",
      "Recursive: 1\n",
      "Steps: 3\n"
     ]
    }
   ],
   "source": [
    "def fibonacci_iter(n):\n",
    "    if n < 0:\n",
    "        return -1, 1\n",
    "    if n == 0 or n == 1:\n",
    "        return n, 1\n",
    "    steps = 0\n",
    "    a = 0\n",
    "    b = 1\n",
    "    for i in range(2, n+1):\n",
    "        c = a + b\n",
    "        a = b\n",
    "        b = c\n",
    "        steps += 1\n",
    "    return c, steps+1\n",
    "\n",
    "def fibonacci_recur(n):\n",
    "    if n < 0:\n",
    "        return -1, 1\n",
    "    if n == 0 or n == 1:\n",
    "        return n, 1\n",
    "    fib1, steps1 = fibonacci_recur(n-1)\n",
    "    fib2, steps2 = fibonacci_recur(n-2)\n",
    "    return fib1 + fib2, steps1 + steps2 + 1\n",
    "\n",
    "if __name__ == '__main__':\n",
    "    n = int(input(\"Enter a number: \"))\n",
    "    print(\"Iterative:\", fibonacci_iter(n)[0])\n",
    "    print(\"Steps:\", fibonacci_iter(n)[1])\n",
    "    print(\"Recursive:\", fibonacci_recur(n)[0])\n",
    "    print(\"Steps:\", fibonacci_recur(n)[1])"
   ]
  },
  {
   "cell_type": "code",
   "execution_count": null,
   "id": "66b15010-61b9-4b4d-9d06-55b402040f91",
   "metadata": {},
   "outputs": [],
   "source": []
  }
 ],
 "metadata": {
  "kernelspec": {
   "display_name": "Python 3 (ipykernel)",
   "language": "python",
   "name": "python3"
  },
  "language_info": {
   "codemirror_mode": {
    "name": "ipython",
    "version": 3
   },
   "file_extension": ".py",
   "mimetype": "text/x-python",
   "name": "python",
   "nbconvert_exporter": "python",
   "pygments_lexer": "ipython3",
   "version": "3.12.6"
  }
 },
 "nbformat": 4,
 "nbformat_minor": 5
}

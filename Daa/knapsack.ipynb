{
 "cells": [
  {
   "cell_type": "code",
   "execution_count": 1,
   "id": "f65f0e4e-bc68-4f62-a631-3c6d6043463d",
   "metadata": {},
   "outputs": [
    {
     "name": "stdout",
     "output_type": "stream",
     "text": [
      "Maximum value: 220\n",
      "Selected items: [2, 1]\n"
     ]
    }
   ],
   "source": [
    "def knapsack_01(n, values, weights, W):\n",
    "    dp = [[0] * (W+1) for _ in range(n+1)]\n",
    "\n",
    "    for i in range(n+1):\n",
    "        for w in range(W+1):\n",
    "            if i == 0 or w == 0:\n",
    "                dp[i][w] = 0\n",
    "            elif weights[i-1] <= w:\n",
    "                dp[i][w] = max(dp[i-1][w], dp[i-1][w-weights[i-1]] + values[i-1])\n",
    "            else:\n",
    "                dp[i][w] = dp[i-1][w]\n",
    "    \n",
    "    selected_items = []\n",
    "    i, w = n, W\n",
    "    while i > 0 and w > 0:\n",
    "        if dp[i][w] != dp[i-1][w]:\n",
    "            selected_items.append(i-1)\n",
    "            w -= weights[i-1]\n",
    "        i -= 1\n",
    "    \n",
    "    return dp[n][W], selected_items\n",
    "\n",
    "if __name__ == \"__main__\":\n",
    "    n = 3\n",
    "    values = [60, 100, 120]\n",
    "    weights = [10, 20, 30]\n",
    "    W = 50\n",
    "\n",
    "    max_value, selected_items = knapsack_01(n, values, weights, W)\n",
    "    print(\"Maximum value:\", max_value)\n",
    "    print(\"Selected items:\", selected_items)"
   ]
  },
  {
   "cell_type": "code",
   "execution_count": null,
   "id": "407c9864-599b-4e86-ba9f-f9b0e2b3c9b0",
   "metadata": {},
   "outputs": [],
   "source": []
  }
 ],
 "metadata": {
  "kernelspec": {
   "display_name": "Python 3 (ipykernel)",
   "language": "python",
   "name": "python3"
  },
  "language_info": {
   "codemirror_mode": {
    "name": "ipython",
    "version": 3
   },
   "file_extension": ".py",
   "mimetype": "text/x-python",
   "name": "python",
   "nbconvert_exporter": "python",
   "pygments_lexer": "ipython3",
   "version": "3.12.6"
  }
 },
 "nbformat": 4,
 "nbformat_minor": 5
}

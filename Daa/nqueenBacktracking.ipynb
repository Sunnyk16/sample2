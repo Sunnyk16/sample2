{
 "cells": [
  {
   "cell_type": "code",
   "execution_count": 2,
   "id": "069d9c95-212d-4933-89f1-4c0832bedef2",
   "metadata": {},
   "outputs": [
    {
     "name": "stdout",
     "output_type": "stream",
     "text": [
      ". Q . .\n",
      ". . . Q\n",
      "Q . . .\n",
      ". . Q .\n"
     ]
    }
   ],
   "source": [
    "def solveNQueens(n: int, first_queen_col: int):\n",
    "    col = set()\n",
    "    posDiag = set()\n",
    "    negDiag = set()\n",
    "\n",
    "    res = []\n",
    "    board = [[\".\"] * n for _ in range(n)]\n",
    "\n",
    "    def backtrack(r):\n",
    "        if r == n:\n",
    "            res.append([\"\".join(row) for row in board])\n",
    "            return\n",
    "\n",
    "        for c in range(n):\n",
    "            if c in col or (r + c) in posDiag or (r - c) in negDiag:\n",
    "                continue\n",
    "\n",
    "            col.add(c)\n",
    "            posDiag.add(r + c)\n",
    "            negDiag.add(r - c)\n",
    "            board[r][c] = \"Q\"\n",
    "\n",
    "            backtrack(r + 1)\n",
    "\n",
    "            col.remove(c)\n",
    "            posDiag.remove(r + c)\n",
    "            negDiag.remove(r - c)\n",
    "            board[r][c] = \".\"\n",
    "\n",
    "    col.add(first_queen_col)\n",
    "    posDiag.add(0 + first_queen_col)\n",
    "    negDiag.add(0 - first_queen_col)\n",
    "    board[0][first_queen_col] = \"Q\"\n",
    "\n",
    "    backtrack(1)  # Start with the second row\n",
    "    return res\n",
    "\n",
    "if __name__ == \"__main__\":\n",
    "    n = 4\n",
    "    first_queen_col = 1\n",
    "    board = solveNQueens(n, first_queen_col)[0]\n",
    "    for row in board:\n",
    "        print(\" \".join(row))"
   ]
  },
  {
   "cell_type": "code",
   "execution_count": null,
   "id": "7410ed56-0c9d-46a8-b998-3bc8b7069e2b",
   "metadata": {},
   "outputs": [],
   "source": []
  }
 ],
 "metadata": {
  "kernelspec": {
   "display_name": "Python 3 (ipykernel)",
   "language": "python",
   "name": "python3"
  },
  "language_info": {
   "codemirror_mode": {
    "name": "ipython",
    "version": 3
   },
   "file_extension": ".py",
   "mimetype": "text/x-python",
   "name": "python",
   "nbconvert_exporter": "python",
   "pygments_lexer": "ipython3",
   "version": "3.12.6"
  }
 },
 "nbformat": 4,
 "nbformat_minor": 5
}
